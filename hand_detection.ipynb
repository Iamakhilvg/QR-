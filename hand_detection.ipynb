{
 "cells": [
  {
   "cell_type": "code",
   "execution_count": 1,
   "metadata": {},
   "outputs": [],
   "source": [
    "import mediapipe as mp\n",
    "import cv2"
   ]
  },
  {
   "cell_type": "code",
   "execution_count": 2,
   "metadata": {},
   "outputs": [],
   "source": [
    "mphands=mp.solutions.hands\n",
    "mp_drawing=mp.solutions.drawing_utils"
   ]
  },
  {
   "cell_type": "code",
   "execution_count": 3,
   "metadata": {},
   "outputs": [],
   "source": [
    "Hands=mphands.Hands()"
   ]
  },
  {
   "cell_type": "code",
   "execution_count": 5,
   "metadata": {},
   "outputs": [],
   "source": [
    "cap=cv2.VideoCapture(0)\n",
    "while True:\n",
    "    data,image=cap.read()\n",
    "    image=cv2.cvtColor(image,cv2.COLOR_BGR2RGB)\n",
    "    results=Hands.process(image)\n",
    "    #print(results)\n",
    "    image=cv2.cvtColor(image,cv2.COLOR_RGB2BGR)\n",
    "    if results.multi_hand_landmarks:\n",
    "        for hand_landmarks in results.multi_hand_landmarks:\n",
    "            mp_drawing.draw_landmarks(image,hand_landmarks,mphands.HAND_CONNECTIONS)\n",
    "\n",
    "\n",
    "\n",
    "    cv2.imshow('hand tracking',image)\n",
    "    if cv2.waitKey(1) & 0XFF==ord('q'):\n",
    "        break\n",
    "cap.release()\n",
    "cv2.destroyAllWindows()\n"
   ]
  },
  {
   "cell_type": "code",
   "execution_count": 6,
   "metadata": {},
   "outputs": [
    {
     "data": {
      "text/plain": [
       "landmark {\n",
       "  x: 0.8357722163200378\n",
       "  y: 0.5950663089752197\n",
       "  z: 1.0358431978829685e-07\n",
       "}\n",
       "landmark {\n",
       "  x: 0.8208333253860474\n",
       "  y: 0.5884574055671692\n",
       "  z: -0.004958014003932476\n",
       "}\n",
       "landmark {\n",
       "  x: 0.8061264157295227\n",
       "  y: 0.5778427720069885\n",
       "  z: -0.008379383943974972\n",
       "}\n",
       "landmark {\n",
       "  x: 0.7943578958511353\n",
       "  y: 0.5712385773658752\n",
       "  z: -0.011666330508887768\n",
       "}\n",
       "landmark {\n",
       "  x: 0.7847453355789185\n",
       "  y: 0.5682333111763\n",
       "  z: -0.01511276513338089\n",
       "}\n",
       "landmark {\n",
       "  x: 0.8122643828392029\n",
       "  y: 0.5458940267562866\n",
       "  z: -0.004136056173592806\n",
       "}\n",
       "landmark {\n",
       "  x: 0.8052377104759216\n",
       "  y: 0.5276921987533569\n",
       "  z: -0.008903268724679947\n",
       "}\n",
       "landmark {\n",
       "  x: 0.800972580909729\n",
       "  y: 0.5160757303237915\n",
       "  z: -0.013199061155319214\n",
       "}\n",
       "landmark {\n",
       "  x: 0.7978128790855408\n",
       "  y: 0.5062136650085449\n",
       "  z: -0.01644463650882244\n",
       "}\n",
       "landmark {\n",
       "  x: 0.8212408423423767\n",
       "  y: 0.5413781404495239\n",
       "  z: -0.005694130435585976\n",
       "}\n",
       "landmark {\n",
       "  x: 0.8184967041015625\n",
       "  y: 0.5191546082496643\n",
       "  z: -0.009320592507719994\n",
       "}\n",
       "landmark {\n",
       "  x: 0.8170979022979736\n",
       "  y: 0.505183219909668\n",
       "  z: -0.012692016549408436\n",
       "}\n",
       "landmark {\n",
       "  x: 0.8162364363670349\n",
       "  y: 0.4933941662311554\n",
       "  z: -0.015291287563741207\n",
       "}\n",
       "landmark {\n",
       "  x: 0.8304435610771179\n",
       "  y: 0.5421528816223145\n",
       "  z: -0.008168218657374382\n",
       "}\n",
       "landmark {\n",
       "  x: 0.8292999863624573\n",
       "  y: 0.5219981670379639\n",
       "  z: -0.012141807936131954\n",
       "}\n",
       "landmark {\n",
       "  x: 0.8279827237129211\n",
       "  y: 0.5103182792663574\n",
       "  z: -0.014763453043997288\n",
       "}\n",
       "landmark {\n",
       "  x: 0.8267287015914917\n",
       "  y: 0.500335156917572\n",
       "  z: -0.016756948083639145\n",
       "}\n",
       "landmark {\n",
       "  x: 0.8396837711334229\n",
       "  y: 0.5476084351539612\n",
       "  z: -0.011182237416505814\n",
       "}\n",
       "landmark {\n",
       "  x: 0.842719554901123\n",
       "  y: 0.533737063407898\n",
       "  z: -0.014624269679188728\n",
       "}\n",
       "landmark {\n",
       "  x: 0.8442428112030029\n",
       "  y: 0.5251928567886353\n",
       "  z: -0.01568974182009697\n",
       "}\n",
       "landmark {\n",
       "  x: 0.845353901386261\n",
       "  y: 0.5175232291221619\n",
       "  z: -0.016438983380794525\n",
       "}"
      ]
     },
     "execution_count": 6,
     "metadata": {},
     "output_type": "execute_result"
    }
   ],
   "source": [
    "hand_landmarks"
   ]
  }
 ],
 "metadata": {
  "kernelspec": {
   "display_name": "Python 3",
   "language": "python",
   "name": "python3"
  },
  "language_info": {
   "codemirror_mode": {
    "name": "ipython",
    "version": 3
   },
   "file_extension": ".py",
   "mimetype": "text/x-python",
   "name": "python",
   "nbconvert_exporter": "python",
   "pygments_lexer": "ipython3",
   "version": "3.10.7"
  },
  "orig_nbformat": 4,
  "vscode": {
   "interpreter": {
    "hash": "fb4569285eef3a3450cb62085a5b1e0da4bce0af555edc33dcf29baf3acc1368"
   }
  }
 },
 "nbformat": 4,
 "nbformat_minor": 2
}
